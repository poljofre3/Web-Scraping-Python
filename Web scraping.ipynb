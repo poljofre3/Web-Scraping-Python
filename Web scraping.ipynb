{
 "cells": [
  {
   "cell_type": "code",
   "execution_count": 3,
   "id": "f1015987",
   "metadata": {},
   "outputs": [],
   "source": [
    "import requests\n",
    "import csv"
   ]
  },
  {
   "cell_type": "code",
   "execution_count": 4,
   "id": "632008cf",
   "metadata": {},
   "outputs": [],
   "source": [
    "from bs4 import BeautifulSoup"
   ]
  },
  {
   "cell_type": "code",
   "execution_count": 5,
   "id": "02649444",
   "metadata": {},
   "outputs": [],
   "source": [
    "import pandas as pd"
   ]
  },
  {
   "cell_type": "code",
   "execution_count": 6,
   "id": "7be0258e",
   "metadata": {},
   "outputs": [],
   "source": [
    "\n",
    "req = requests.get('https://esportsparra.com/collections/zapatillas-running-hombre')\n",
    "\n",
    "soup = BeautifulSoup(req.text, \"html.parser\")"
   ]
  },
  {
   "cell_type": "code",
   "execution_count": 7,
   "id": "87d0b6b5",
   "metadata": {},
   "outputs": [
    {
     "data": {
      "text/plain": [
       "<title>Zapatillas para correr por asfalto de hombre | Esports Parra\n",
       "</title>"
      ]
     },
     "execution_count": 7,
     "metadata": {},
     "output_type": "execute_result"
    }
   ],
   "source": [
    "soup.title\n"
   ]
  },
  {
   "cell_type": "code",
   "execution_count": 8,
   "id": "a241aa80",
   "metadata": {},
   "outputs": [
    {
     "data": {
      "text/plain": [
       "'Zapatillas para correr por asfalto de hombre | Esports Parra\\n'"
      ]
     },
     "execution_count": 8,
     "metadata": {},
     "output_type": "execute_result"
    }
   ],
   "source": [
    "soup.title.string"
   ]
  },
  {
   "cell_type": "code",
   "execution_count": 9,
   "id": "7beb5957",
   "metadata": {},
   "outputs": [],
   "source": [
    "#Extract the product name\n",
    "product_names = soup.find_all('div','grid-product__title')"
   ]
  },
  {
   "cell_type": "code",
   "execution_count": 10,
   "id": "65e22af5",
   "metadata": {},
   "outputs": [
    {
     "name": "stdout",
     "output_type": "stream",
     "text": [
      "[<div class=\"grid-product__title\">Zapatillas SAUCONY RIDE 16 Hombre</div>, <div class=\"grid-product__title\">Zapatillas ADIDAS ULTRABOOST LIGHT Unisex</div>, <div class=\"grid-product__title\">Zapatillas ADIDAS RUNFALCON 3.0 Hombre</div>, <div class=\"grid-product__title\">Zapatillas ADIDAS ULTRABOUNCE Hombre</div>, <div class=\"grid-product__title\">Zapatillas ADIDAS GALAXY 6 M Hombre</div>, <div class=\"grid-product__title\">Zapatillas ADIDAS GALAXY 6 M Hombre</div>, <div class=\"grid-product__title\">Zapatillas NIKE DOWNSHIFTER 12 Hombre</div>, <div class=\"grid-product__title\">Zapatillas ON CLOUD X 3 Hombre</div>, <div class=\"grid-product__title\">Zapatillas ON CLOUDRUNNER Hombre</div>, <div class=\"grid-product__title\">Zapatillas ON CLOUDFLOW 3 Hombre</div>, <div class=\"grid-product__title\">Zapatillas UNDER ARMOUR UA HOVR RISE 4 Hombre</div>, <div class=\"grid-product__title\">Zapatillas UNDER ARMOUR UA HOVR TURBULENCE Hombre</div>, <div class=\"grid-product__title\">Zapatillas SKECHERS GO RUN ELEVATE - POROUS Hombre</div>, <div class=\"grid-product__title\">Zapatillas HOKA CLIFTON 9 Hombre</div>, <div class=\"grid-product__title\">Zapatillas HOKA BONDI 8 Hombre</div>, <div class=\"grid-product__title\">Zapatillas SALOMON SHOES SPECTUR WHITE/POPPY RED/B</div>, <div class=\"grid-product__title\">Zapatillas NIKE RUN SWIFT 3 MEN'S ROAD RUNNING Hombre</div>, <div class=\"grid-product__title\">Zapatillas ON CLOUD 5 PUSH Hombre</div>, <div class=\"grid-product__title\">Zapatillas ON CLOUD 5 Hombre</div>, <div class=\"grid-product__title\">Zapatillas ON CLOUD 5 Hombre</div>, <div class=\"grid-product__title\">Zapatillas ON CLOUDGO Hombre</div>, <div class=\"grid-product__title\">Zapatillas PUMA DEVIATE NITRO 2 Hombre</div>, <div class=\"grid-product__title\">Zapatillas BROOKS GHOST 14 Hombre</div>, <div class=\"grid-product__title\">Zapatillas ASICS GEL-NIMBUS 25</div>]\n"
     ]
    }
   ],
   "source": [
    "print(product_names)"
   ]
  },
  {
   "cell_type": "code",
   "execution_count": 11,
   "id": "9f3d94a6",
   "metadata": {},
   "outputs": [
    {
     "name": "stdout",
     "output_type": "stream",
     "text": [
      "['Zapatillas SAUCONY RIDE 16 Hombre', 'Zapatillas ADIDAS ULTRABOOST LIGHT Unisex', 'Zapatillas ADIDAS RUNFALCON 3.0 Hombre', 'Zapatillas ADIDAS ULTRABOUNCE Hombre', 'Zapatillas ADIDAS GALAXY 6 M Hombre', 'Zapatillas ADIDAS GALAXY 6 M Hombre', 'Zapatillas NIKE DOWNSHIFTER 12 Hombre', 'Zapatillas ON CLOUD X 3 Hombre', 'Zapatillas ON CLOUDRUNNER Hombre', 'Zapatillas ON CLOUDFLOW 3 Hombre', 'Zapatillas UNDER ARMOUR UA HOVR RISE 4 Hombre', 'Zapatillas UNDER ARMOUR UA HOVR TURBULENCE Hombre', 'Zapatillas SKECHERS GO RUN ELEVATE - POROUS Hombre', 'Zapatillas HOKA CLIFTON 9 Hombre', 'Zapatillas HOKA BONDI 8 Hombre', 'Zapatillas SALOMON SHOES SPECTUR WHITE/POPPY RED/B', \"Zapatillas NIKE RUN SWIFT 3 MEN'S ROAD RUNNING Hombre\", 'Zapatillas ON CLOUD 5 PUSH Hombre', 'Zapatillas ON CLOUD 5 Hombre', 'Zapatillas ON CLOUD 5 Hombre', 'Zapatillas ON CLOUDGO Hombre', 'Zapatillas PUMA DEVIATE NITRO 2 Hombre', 'Zapatillas BROOKS GHOST 14 Hombre', 'Zapatillas ASICS GEL-NIMBUS 25']\n"
     ]
    }
   ],
   "source": [
    "#Extract just the product name\n",
    "product_names = [elem.text.strip() for elem in soup.find_all('div', {'class': 'grid-product__title'})]\n",
    "\n",
    "print(product_names)\n"
   ]
  },
  {
   "cell_type": "code",
   "execution_count": 12,
   "id": "0bdc42de",
   "metadata": {},
   "outputs": [],
   "source": [
    "#Extract the original price (without discount)\n",
    "original_prices = soup.find_all('del','grid-product__price--original')\n"
   ]
  },
  {
   "cell_type": "code",
   "execution_count": 13,
   "id": "13e17bb4",
   "metadata": {},
   "outputs": [
    {
     "name": "stdout",
     "output_type": "stream",
     "text": [
      "[<del class=\"grid-product__price--original\">150,00€</del>, <del class=\"grid-product__price--original\">200,00€</del>, <del class=\"grid-product__price--original\">60,00€</del>, <del class=\"grid-product__price--original\">90,00€</del>, <del class=\"grid-product__price--original\">55,00€</del>, <del class=\"grid-product__price--original\">55,00€</del>, <del class=\"grid-product__price--original\">69,99€</del>, <del class=\"grid-product__price--original\">110,00€</del>, <del class=\"grid-product__price--original\">100,00€</del>, <del class=\"grid-product__price--original\">84,95€</del>, <del class=\"grid-product__price--original\">150,00€</del>, <del class=\"grid-product__price--original\">170,00€</del>, <del class=\"grid-product__price--original\">135,00€</del>, <del class=\"grid-product__price--original\">74,99€</del>, <del class=\"grid-product__price--original\">175,00€</del>, <del class=\"grid-product__price--original\">150,00€</del>, <del class=\"grid-product__price--original\">200,00€</del>]\n"
     ]
    }
   ],
   "source": [
    "print(original_prices)"
   ]
  },
  {
   "cell_type": "code",
   "execution_count": 14,
   "id": "acc0b2f4",
   "metadata": {},
   "outputs": [
    {
     "name": "stdout",
     "output_type": "stream",
     "text": [
      "['150,00€', '200,00€', '60,00€', '90,00€', '55,00€', '55,00€', '69,99€', '110,00€', '100,00€', '84,95€', '150,00€', '170,00€', '135,00€', '74,99€', '175,00€', '150,00€', '200,00€']\n"
     ]
    }
   ],
   "source": [
    "#Extract just the original price\n",
    "original_prices = [elem.text.strip() for elem in soup.find_all('del', {'class': 'grid-product__price--original'})]\n",
    "\n",
    "print(original_prices)\n"
   ]
  },
  {
   "cell_type": "code",
   "execution_count": 15,
   "id": "a635ec8d",
   "metadata": {},
   "outputs": [
    {
     "name": "stdout",
     "output_type": "stream",
     "text": [
      "[<span class=\"sale-price\">\n",
      "              129,99€\n",
      "            </span>, <span class=\"sale-price\">\n",
      "              179,99€\n",
      "            </span>, <span class=\"sale-price\">\n",
      "              54,99€\n",
      "            </span>, <span class=\"sale-price\">\n",
      "              79,99€\n",
      "            </span>, <span class=\"sale-price\">\n",
      "              39,99€\n",
      "            </span>, <span class=\"sale-price\">\n",
      "              49,99€\n",
      "            </span>, <span class=\"sale-price\">\n",
      "              59,99€\n",
      "            </span>, <span class=\"sale-price\">\n",
      "              79,99€\n",
      "            </span>, <span class=\"sale-price\">\n",
      "              79,99€\n",
      "            </span>, <span class=\"sale-price\">\n",
      "              69,99€\n",
      "            </span>, <span class=\"sale-price\">\n",
      "              139,99€\n",
      "            </span>, <span class=\"sale-price\">\n",
      "              159,99€\n",
      "            </span>, <span class=\"sale-price\">\n",
      "              119,99€\n",
      "            </span>, <span class=\"sale-price\">\n",
      "              59,99€\n",
      "            </span>, <span class=\"sale-price\">\n",
      "              139,99€\n",
      "            </span>, <span class=\"sale-price\">\n",
      "              89,99€\n",
      "            </span>, <span class=\"sale-price\">\n",
      "              179,99€\n",
      "            </span>]\n"
     ]
    }
   ],
   "source": [
    "#Extract the sale price\n",
    "sale_price = soup.find_all('span','sale-price')\n",
    "print(sale_price)\n"
   ]
  },
  {
   "cell_type": "code",
   "execution_count": 16,
   "id": "2b0645f3",
   "metadata": {},
   "outputs": [
    {
     "name": "stdout",
     "output_type": "stream",
     "text": [
      "['129,99€', '179,99€', '54,99€', '79,99€', '39,99€', '49,99€', '59,99€', '79,99€', '79,99€', '69,99€', '139,99€', '159,99€', '119,99€', '59,99€', '139,99€', '89,99€', '179,99€']\n"
     ]
    }
   ],
   "source": [
    "#Extract just the sale price\n",
    "sale_price = [elem.text.strip() for elem in soup.find_all('span', {'class': 'sale-price'})]\n",
    "\n",
    "print(sale_price)"
   ]
  },
  {
   "cell_type": "code",
   "execution_count": 17,
   "id": "5570a498",
   "metadata": {},
   "outputs": [
    {
     "name": "stdout",
     "output_type": "stream",
     "text": [
      "24\n",
      "17\n",
      "17\n"
     ]
    }
   ],
   "source": [
    "#Check the lenght of each object\n",
    "print(len(product_names))\n",
    "print(len(sale_price))\n",
    "print(len(original_prices))"
   ]
  },
  {
   "cell_type": "code",
   "execution_count": 18,
   "id": "eda34120",
   "metadata": {},
   "outputs": [],
   "source": [
    "#Add \"None\"if there's a missing value\n",
    "if len(sale_price) < len(product_names):\n",
    "    diff = len(product_names) - len(sale_price)\n",
    "    for i in range(diff):\n",
    "        sale_price.append(None)\n",
    "\n",
    "if len(original_prices) < len(product_names):\n",
    "    diff = len(product_names) - len(original_prices)\n",
    "    for i in range(diff):\n",
    "        original_prices.append(None)\n",
    "\n",
    "# Update data dictionary with the new lists\n",
    "data = {'Product': product_names, 'Price with discount': sale_price, 'Original Price': original_prices}\n",
    "\n",
    "# Create the DataFrame\n",
    "df = pd.DataFrame(data)"
   ]
  },
  {
   "cell_type": "code",
   "execution_count": 19,
   "id": "d5c1f3df",
   "metadata": {},
   "outputs": [
    {
     "name": "stdout",
     "output_type": "stream",
     "text": [
      "                                              Product Price with discount  \\\n",
      "0                   Zapatillas SAUCONY RIDE 16 Hombre             129,99€   \n",
      "1           Zapatillas ADIDAS ULTRABOOST LIGHT Unisex             179,99€   \n",
      "2              Zapatillas ADIDAS RUNFALCON 3.0 Hombre              54,99€   \n",
      "3                Zapatillas ADIDAS ULTRABOUNCE Hombre              79,99€   \n",
      "4                 Zapatillas ADIDAS GALAXY 6 M Hombre              39,99€   \n",
      "5                 Zapatillas ADIDAS GALAXY 6 M Hombre              49,99€   \n",
      "6               Zapatillas NIKE DOWNSHIFTER 12 Hombre              59,99€   \n",
      "7                      Zapatillas ON CLOUD X 3 Hombre              79,99€   \n",
      "8                    Zapatillas ON CLOUDRUNNER Hombre              79,99€   \n",
      "9                    Zapatillas ON CLOUDFLOW 3 Hombre              69,99€   \n",
      "10      Zapatillas UNDER ARMOUR UA HOVR RISE 4 Hombre             139,99€   \n",
      "11  Zapatillas UNDER ARMOUR UA HOVR TURBULENCE Hombre             159,99€   \n",
      "12  Zapatillas SKECHERS GO RUN ELEVATE - POROUS Ho...             119,99€   \n",
      "13                   Zapatillas HOKA CLIFTON 9 Hombre              59,99€   \n",
      "14                     Zapatillas HOKA BONDI 8 Hombre             139,99€   \n",
      "15  Zapatillas SALOMON SHOES SPECTUR WHITE/POPPY R...              89,99€   \n",
      "16  Zapatillas NIKE RUN SWIFT 3 MEN'S ROAD RUNNING...             179,99€   \n",
      "17                  Zapatillas ON CLOUD 5 PUSH Hombre                None   \n",
      "18                       Zapatillas ON CLOUD 5 Hombre                None   \n",
      "19                       Zapatillas ON CLOUD 5 Hombre                None   \n",
      "20                       Zapatillas ON CLOUDGO Hombre                None   \n",
      "21             Zapatillas PUMA DEVIATE NITRO 2 Hombre                None   \n",
      "22                  Zapatillas BROOKS GHOST 14 Hombre                None   \n",
      "23                     Zapatillas ASICS GEL-NIMBUS 25                None   \n",
      "\n",
      "   Original Price  \n",
      "0         150,00€  \n",
      "1         200,00€  \n",
      "2          60,00€  \n",
      "3          90,00€  \n",
      "4          55,00€  \n",
      "5          55,00€  \n",
      "6          69,99€  \n",
      "7         110,00€  \n",
      "8         100,00€  \n",
      "9          84,95€  \n",
      "10        150,00€  \n",
      "11        170,00€  \n",
      "12        135,00€  \n",
      "13         74,99€  \n",
      "14        175,00€  \n",
      "15        150,00€  \n",
      "16        200,00€  \n",
      "17           None  \n",
      "18           None  \n",
      "19           None  \n",
      "20           None  \n",
      "21           None  \n",
      "22           None  \n",
      "23           None  \n"
     ]
    }
   ],
   "source": [
    "print(df)"
   ]
  },
  {
   "cell_type": "code",
   "execution_count": 20,
   "id": "67b5cc81",
   "metadata": {},
   "outputs": [],
   "source": [
    "# Save the DataFrame to a CSV file\n",
    "df.to_csv('product_data.csv', index=False)"
   ]
  },
  {
   "cell_type": "code",
   "execution_count": null,
   "id": "723f2d8f",
   "metadata": {},
   "outputs": [],
   "source": []
  }
 ],
 "metadata": {
  "kernelspec": {
   "display_name": "Python 3 (ipykernel)",
   "language": "python",
   "name": "python3"
  },
  "language_info": {
   "codemirror_mode": {
    "name": "ipython",
    "version": 3
   },
   "file_extension": ".py",
   "mimetype": "text/x-python",
   "name": "python",
   "nbconvert_exporter": "python",
   "pygments_lexer": "ipython3",
   "version": "3.9.12"
  }
 },
 "nbformat": 4,
 "nbformat_minor": 5
}
