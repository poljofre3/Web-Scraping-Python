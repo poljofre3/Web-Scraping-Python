{
 "cells": [
  {
   "cell_type": "code",
   "execution_count": 1,
   "id": "63cb50e4",
   "metadata": {},
   "outputs": [],
   "source": [
    "import requests\n",
    "from bs4 import BeautifulSoup\n",
    "import pandas as pd\n"
   ]
  },
  {
   "cell_type": "code",
   "execution_count": 2,
   "id": "73985a3d",
   "metadata": {},
   "outputs": [],
   "source": [
    "#Set the base url and headers\n",
    "req = requests.get('https://www.shopdutyfree.es/macbook-air/')"
   ]
  },
  {
   "cell_type": "code",
   "execution_count": 3,
   "id": "899881e2",
   "metadata": {},
   "outputs": [],
   "source": [
    "#Parse the HTML content using BeautifulSoup\n",
    "soup = BeautifulSoup(req.text, \"html.parser\")"
   ]
  },
  {
   "cell_type": "code",
   "execution_count": 4,
   "id": "2de1c1c3",
   "metadata": {},
   "outputs": [],
   "source": [
    "#Extract the product name\n",
    "product_names = soup.find_all('h2','h3 product-title')"
   ]
  },
  {
   "cell_type": "code",
   "execution_count": 5,
   "id": "35a6f9ca",
   "metadata": {},
   "outputs": [
    {
     "name": "stdout",
     "output_type": "stream",
     "text": [
      "[<h2 class=\"h3 product-title\"><a content=\"https://www.shopdutyfree.es/comprar-macbook-air-13-m1-256gb-oro\" href=\"https://www.shopdutyfree.es/comprar-macbook-air-13-m1-256gb-oro\">MacBook Air 13 M1 256GB Oro</a></h2>, <h2 class=\"h3 product-title\"><a content=\"https://www.shopdutyfree.es/comprar-macbook-air-13-m1-256gb-plata\" href=\"https://www.shopdutyfree.es/comprar-macbook-air-13-m1-256gb-plata\">MacBook Air 13 M1 256GB Plata</a></h2>, <h2 class=\"h3 product-title\"><a content=\"https://www.shopdutyfree.es/comprar-macbook-air-13-m1-256gb-gris\" href=\"https://www.shopdutyfree.es/comprar-macbook-air-13-m1-256gb-gris\">MacBook Air 13 M1 256GB Gris</a></h2>, <h2 class=\"h3 product-title\"><a content=\"https://www.shopdutyfree.es/comprar-macbook-air-13-m2-256gb-ram-16gb-negro\" href=\"https://www.shopdutyfree.es/comprar-macbook-air-13-m2-256gb-ram-16gb-negro\">MacBook Air 13 M2 256GB RAM...</a></h2>, <h2 class=\"h3 product-title\"><a content=\"https://www.shopdutyfree.es/comprar-macbook-air-13-m2-256gb-plata\" href=\"https://www.shopdutyfree.es/comprar-macbook-air-13-m2-256gb-plata\">MacBook Air 13 M2 256GB Plata</a></h2>, <h2 class=\"h3 product-title\"><a content=\"https://www.shopdutyfree.es/comprar-macbook-air-13-m2-512gb-ram-16gb-67w-negro-8c-cpu-10c-gpu\" href=\"https://www.shopdutyfree.es/comprar-macbook-air-13-m2-512gb-ram-16gb-67w-negro-8c-cpu-10c-gpu\">MacBook Air 13 M2 512GB RAM...</a></h2>, <h2 class=\"h3 product-title\"><a content=\"https://www.shopdutyfree.es/comprar-macbook-air-13-m2-256gb-negro\" href=\"https://www.shopdutyfree.es/comprar-macbook-air-13-m2-256gb-negro\">MacBook Air 13 M2 256GB Negro</a></h2>, <h2 class=\"h3 product-title\"><a content=\"https://www.shopdutyfree.es/comprar-macbook-air-13-m2-512gb-blanco\" href=\"https://www.shopdutyfree.es/comprar-macbook-air-13-m2-512gb-blanco\">MacBook Air 13 M2 512GB Blanco</a></h2>, <h2 class=\"h3 product-title\"><a content=\"https://www.shopdutyfree.es/comprar-iphone-14-pro-1tb-negro-espacial\" href=\"https://www.shopdutyfree.es/comprar-iphone-14-pro-1tb-negro-espacial\">iPhone 14 Pro 1TB Negro</a></h2>, <h2 class=\"h3 product-title\"><a content=\"https://www.shopdutyfree.es/comprar-iphone-13-pro-max-128gb-azul\" href=\"https://www.shopdutyfree.es/comprar-iphone-13-pro-max-128gb-azul\">iPhone 13 Pro Max 128GB Azul</a></h2>, <h2 class=\"h3 product-title\"><a content=\"https://www.shopdutyfree.es/comprar-iphone-13-pro-128gb-grafito\" href=\"https://www.shopdutyfree.es/comprar-iphone-13-pro-128gb-grafito\">iPhone 13 Pro 128GB Grafito</a></h2>, <h2 class=\"h3 product-title\"><a content=\"https://www.shopdutyfree.es/comprar-iphone-11-64gb-rojo\" href=\"https://www.shopdutyfree.es/comprar-iphone-11-64gb-rojo\">iPhone 11 64GB Rojo</a></h2>, <h2 class=\"h3 product-title\"><a content=\"https://www.shopdutyfree.es/comprar-iphone-11-64gb-purple\" href=\"https://www.shopdutyfree.es/comprar-iphone-11-64gb-purple\">iPhone 11 64GB Purple</a></h2>, <h2 class=\"h3 product-title\"><a content=\"https://www.shopdutyfree.es/comprar-iphone-se-128gb-negro-2020\" href=\"https://www.shopdutyfree.es/comprar-iphone-se-128gb-negro-2020\">iPhone SE 128GB Negro 2020</a></h2>, <h2 class=\"h3 product-title\"><a content=\"https://www.shopdutyfree.es/comprar-ipad-pro-129-wifi-celular-64gb-gris\" href=\"https://www.shopdutyfree.es/comprar-ipad-pro-129-wifi-celular-64gb-gris\">iPad Pro 12.9 WiFi Celular...</a></h2>, <h2 class=\"h3 product-title\"><a content=\"https://www.shopdutyfree.es/comprar-ipad-mini-wifi-celular-256gb-purpura\" href=\"https://www.shopdutyfree.es/comprar-ipad-mini-wifi-celular-256gb-purpura\">iPad Mini Wifi Celular...</a></h2>, <h2 class=\"h3 product-title\"><a content=\"https://www.shopdutyfree.es/comprar-macbook-air-13-m1-512gb-gris\" href=\"https://www.shopdutyfree.es/comprar-macbook-air-13-m1-512gb-gris\">MacBook Air 13 M1 512GB Gris</a></h2>, <h2 class=\"h3 product-title\"><a content=\"https://www.shopdutyfree.es/comprar-watch-7-gps-41-blanco-aluminio\" href=\"https://www.shopdutyfree.es/comprar-watch-7-gps-41-blanco-aluminio\">Watch 7 GPS 41 Blanco Aluminio</a></h2>, <h2 class=\"h3 product-title\"><a content=\"https://www.shopdutyfree.es/comprar-watch-6-gps-celular-40-aluminio-rojo\" href=\"https://www.shopdutyfree.es/comprar-watch-6-gps-celular-40-aluminio-rojo\">Watch 6 GPS Celular 40...</a></h2>, <h2 class=\"h3 product-title\"><a content=\"https://www.shopdutyfree.es/comprar-homepod-mini-blanco\" href=\"https://www.shopdutyfree.es/comprar-homepod-mini-blanco\">HomePod Mini Blanco</a></h2>, <h2 class=\"h3 product-title\"><a content=\"https://www.shopdutyfree.es/comprar-funda-silicona-iphone-13-mini-azul-abismo\" href=\"https://www.shopdutyfree.es/comprar-funda-silicona-iphone-13-mini-azul-abismo\">Funda Silicona iPhone 13...</a></h2>, <h2 class=\"h3 product-title\"><a content=\"https://www.shopdutyfree.es/comprar-funda-silicona-iphone-13-pro-max-medianoche\" href=\"https://www.shopdutyfree.es/comprar-funda-silicona-iphone-13-pro-max-medianoche\">Funda Silicona iPhone 13...</a></h2>, <h2 class=\"h3 product-title\"><a content=\"https://www.shopdutyfree.es/comprar-funda-silicona-iphone-13-verde\" href=\"https://www.shopdutyfree.es/comprar-funda-silicona-iphone-13-verde\">Funda Silicona iPhone 13 Verde</a></h2>, <h2 class=\"h3 product-title\"><a content=\"https://www.shopdutyfree.es/comprar-funda-silicona-iphone-12-mini-azul-marino\" href=\"https://www.shopdutyfree.es/comprar-funda-silicona-iphone-12-mini-azul-marino\">Funda Silicona iPhone 12...</a></h2>, <h2 class=\"h3 product-title\"><a content=\"https://www.shopdutyfree.es/comprar-funda-magsafe-cuero-iphone-12-12-pro-negro\" href=\"https://www.shopdutyfree.es/comprar-funda-magsafe-cuero-iphone-12-12-pro-negro\">Funda MagSafe Cuero iPhone...</a></h2>, <h2 class=\"h3 product-title\"><a content=\"https://www.shopdutyfree.es/comprar-funda-iphone-xs-rosa\" href=\"https://www.shopdutyfree.es/comprar-funda-iphone-xs-rosa\">Funda iPhone XS Rosa</a></h2>, <h2 class=\"h3 product-title\"><a content=\"https://www.shopdutyfree.es/comprar-funda-ipad-air-azul\" href=\"https://www.shopdutyfree.es/comprar-funda-ipad-air-azul\">Funda iPad Air Azul</a></h2>, <h2 class=\"h3 product-title\"><a content=\"https://www.shopdutyfree.es/comprar-funda-ipad-mini-6th-naranja\" href=\"https://www.shopdutyfree.es/comprar-funda-ipad-mini-6th-naranja\">Funda iPad Mini 6th Naranja</a></h2>, <h2 class=\"h3 product-title\"><a content=\"https://www.shopdutyfree.es/comprar-cable-usb-05m\" href=\"https://www.shopdutyfree.es/comprar-cable-usb-05m\">Cable USB 0.5m</a></h2>, <h2 class=\"h3 product-title\"><a content=\"https://www.shopdutyfree.es/comprar-adaptador-corriente-usb-12w\" href=\"https://www.shopdutyfree.es/comprar-adaptador-corriente-usb-12w\">Adaptador Corriente USB 12W</a></h2>, <h2 class=\"h3 product-title\"><a content=\"https://www.shopdutyfree.es/comprar-adaptador-a-usb-3-camara\" href=\"https://www.shopdutyfree.es/comprar-adaptador-a-usb-3-camara\">Adaptador a USB 3 Cámara</a></h2>, <h2 class=\"h3 product-title\"><a content=\"https://www.shopdutyfree.es/comprar-adaptador-multi-puerto-vga\" href=\"https://www.shopdutyfree.es/comprar-adaptador-multi-puerto-vga\">Adaptador Multi Puerto VGA</a></h2>, <h2 class=\"h3 product-title\"><a content=\"https://www.shopdutyfree.es/comprar-adaptador-multipuerto-av-blanco\" href=\"https://www.shopdutyfree.es/comprar-adaptador-multipuerto-av-blanco\">Adaptador Multipuerto AV...</a></h2>, <h2 class=\"h3 product-title\"><a content=\"https://www.shopdutyfree.es/comprar-lector-tarjetas-sd-usbc\" href=\"https://www.shopdutyfree.es/comprar-lector-tarjetas-sd-usbc\">Lector tarjetas SD USBC</a></h2>, <h2 class=\"h3 product-title\"><a content=\"https://www.shopdutyfree.es/comprar-puntas-pencil-pack-4\" href=\"https://www.shopdutyfree.es/comprar-puntas-pencil-pack-4\">Puntas Pencil Pack 4</a></h2>, <h2 class=\"h3 product-title\"><a content=\"https://www.shopdutyfree.es/comprar-teclado-numerico-plata\" href=\"https://www.shopdutyfree.es/comprar-teclado-numerico-plata\">Teclado Numérico Plata</a></h2>, <h2 class=\"h3 product-title\"><a content=\"https://www.shopdutyfree.es/comprar-bateria-externa-ngs-2200-blanco\" href=\"https://www.shopdutyfree.es/comprar-bateria-externa-ngs-2200-blanco\">Bateria Externa NGS 2200...</a></h2>, <h2 class=\"h3 product-title\"><a content=\"https://www.shopdutyfree.es/comprar-superficie-magic-trackpad-negro\" href=\"https://www.shopdutyfree.es/comprar-superficie-magic-trackpad-negro\">Superficie Magic Trackpad...</a></h2>]\n"
     ]
    }
   ],
   "source": [
    "print(product_names) \n"
   ]
  },
  {
   "cell_type": "code",
   "execution_count": 6,
   "id": "ba958d10",
   "metadata": {},
   "outputs": [
    {
     "name": "stdout",
     "output_type": "stream",
     "text": [
      "['MacBook Air 13 M1 256GB Oro', 'MacBook Air 13 M1 256GB Plata', 'MacBook Air 13 M1 256GB Gris', 'MacBook Air 13 M2 256GB RAM...', 'MacBook Air 13 M2 256GB Plata', 'MacBook Air 13 M2 512GB RAM...', 'MacBook Air 13 M2 256GB Negro', 'MacBook Air 13 M2 512GB Blanco', 'iPhone 14 Pro 1TB Negro', 'iPhone 13 Pro Max 128GB Azul', 'iPhone 13 Pro 128GB Grafito', 'iPhone 11 64GB Rojo', 'iPhone 11 64GB Purple', 'iPhone SE 128GB Negro 2020', 'iPad Pro 12.9 WiFi Celular...', 'iPad Mini Wifi Celular...', 'MacBook Air 13 M1 512GB Gris', 'Watch 7 GPS 41 Blanco Aluminio', 'Watch 6 GPS Celular 40...', 'HomePod Mini Blanco', 'Funda Silicona iPhone 13...', 'Funda Silicona iPhone 13...', 'Funda Silicona iPhone 13 Verde', 'Funda Silicona iPhone 12...', 'Funda MagSafe Cuero iPhone...', 'Funda iPhone XS Rosa', 'Funda iPad Air Azul', 'Funda iPad Mini 6th Naranja', 'Cable USB 0.5m', 'Adaptador Corriente USB 12W', 'Adaptador a USB 3 Cámara', 'Adaptador Multi Puerto VGA', 'Adaptador Multipuerto AV...', 'Lector tarjetas SD USBC', 'Puntas Pencil Pack 4', 'Teclado Numérico Plata', 'Bateria Externa NGS 2200...', 'Superficie Magic Trackpad...']\n"
     ]
    }
   ],
   "source": [
    "#Extract just the product name\n",
    "product_names = [elem.text.strip() for elem in soup.find_all('h2', {'class': 'h3 product-title'})]\n",
    "\n",
    "print(product_names)\n"
   ]
  },
  {
   "cell_type": "code",
   "execution_count": 7,
   "id": "7ec95a36",
   "metadata": {},
   "outputs": [
    {
     "name": "stdout",
     "output_type": "stream",
     "text": [
      "[<span aria-label=\"Precio regular\" class=\"regular-price\">1.219,00 €</span>, <span aria-label=\"Precio regular\" class=\"regular-price\">1.219,00 €</span>, <span aria-label=\"Precio regular\" class=\"regular-price\">1.219,00 €</span>, <span aria-label=\"Precio regular\" class=\"regular-price\">1.747,85 €</span>, <span aria-label=\"Precio regular\" class=\"regular-price\">1.519,00 €</span>, <span aria-label=\"Precio regular\" class=\"regular-price\">2.097,85 €</span>, <span aria-label=\"Precio regular\" class=\"regular-price\">1.519,00 €</span>, <span aria-label=\"Precio regular\" class=\"regular-price\">1.869,00 €</span>, <span aria-label=\"Precio regular\" class=\"regular-price\">1.969,00 €</span>, <span aria-label=\"Precio regular\" class=\"regular-price\">1.259,01 €</span>, <span aria-label=\"Precio regular\" class=\"regular-price\">1.159,00 €</span>, <span aria-label=\"Precio regular\" class=\"regular-price\">589,00 €</span>, <span aria-label=\"Precio regular\" class=\"regular-price\">589,00 €</span>, <span aria-label=\"Precio regular\" class=\"regular-price\">521,79 €</span>, <span aria-label=\"Precio regular\" class=\"regular-price\">1.269,00 €</span>, <span aria-label=\"Precio regular\" class=\"regular-price\">1.049,00 €</span>, <span aria-label=\"Precio regular\" class=\"regular-price\">1.399,00 €</span>, <span aria-label=\"Precio regular\" class=\"regular-price\">529,00 €</span>, <span aria-label=\"Precio regular\" class=\"regular-price\">99,00 €</span>, <span aria-label=\"Precio regular\" class=\"regular-price\">59,00 €</span>, <span aria-label=\"Precio regular\" class=\"regular-price\">54,99 €</span>, <span aria-label=\"Precio regular\" class=\"regular-price\">59,00 €</span>, <span aria-label=\"Precio regular\" class=\"regular-price\">54,99 €</span>, <span aria-label=\"Precio regular\" class=\"regular-price\">68,99 €</span>, <span aria-label=\"Precio regular\" class=\"regular-price\">45,00 €</span>, <span aria-label=\"Precio regular\" class=\"regular-price\">99,00 €</span>, <span aria-label=\"Precio regular\" class=\"regular-price\">75,00 €</span>, <span aria-label=\"Precio regular\" class=\"regular-price\">25,00 €</span>, <span aria-label=\"Precio regular\" class=\"regular-price\">25,00 €</span>, <span aria-label=\"Precio regular\" class=\"regular-price\">49,01 €</span>, <span aria-label=\"Precio regular\" class=\"regular-price\">79,00 €</span>, <span aria-label=\"Precio regular\" class=\"regular-price\">79,00 €</span>, <span aria-label=\"Precio regular\" class=\"regular-price\">45,00 €</span>, <span aria-label=\"Precio regular\" class=\"regular-price\">25,00 €</span>, <span aria-label=\"Precio regular\" class=\"regular-price\">135,00 €</span>, <span aria-label=\"Precio regular\" class=\"regular-price\">9,30 €</span>, <span aria-label=\"Precio regular\" class=\"regular-price\">155,00 €</span>]\n"
     ]
    }
   ],
   "source": [
    "regular_price = soup.find_all('span','regular-price')\n",
    "print(regular_price)\n"
   ]
  },
  {
   "cell_type": "code",
   "execution_count": 8,
   "id": "1898234a",
   "metadata": {
    "scrolled": true
   },
   "outputs": [
    {
     "name": "stdout",
     "output_type": "stream",
     "text": [
      "['1.219,00\\xa0€', '1.219,00\\xa0€', '1.219,00\\xa0€', '1.747,85\\xa0€', '1.519,00\\xa0€', '2.097,85\\xa0€', '1.519,00\\xa0€', '1.869,00\\xa0€', '1.969,00\\xa0€', '1.259,01\\xa0€', '1.159,00\\xa0€', '589,00\\xa0€', '589,00\\xa0€', '521,79\\xa0€', '1.269,00\\xa0€', '1.049,00\\xa0€', '1.399,00\\xa0€', '529,00\\xa0€', '99,00\\xa0€', '59,00\\xa0€', '54,99\\xa0€', '59,00\\xa0€', '54,99\\xa0€', '68,99\\xa0€', '45,00\\xa0€', '99,00\\xa0€', '75,00\\xa0€', '25,00\\xa0€', '25,00\\xa0€', '49,01\\xa0€', '79,00\\xa0€', '79,00\\xa0€', '45,00\\xa0€', '25,00\\xa0€', '135,00\\xa0€', '9,30\\xa0€', '155,00\\xa0€']\n"
     ]
    }
   ],
   "source": [
    "#Extract just the sale price\n",
    "sale_price = [elem.text.strip() for elem in soup.find_all('span', {'class': 'regular-price'})]\n",
    "\n",
    "print(sale_price)"
   ]
  },
  {
   "cell_type": "code",
   "execution_count": 9,
   "id": "b7ee141e",
   "metadata": {},
   "outputs": [],
   "source": [
    "#Extract the original price (without discount)\n",
    "original_prices = soup.find_all('span','price')"
   ]
  },
  {
   "cell_type": "code",
   "execution_count": 10,
   "id": "1e597b30",
   "metadata": {},
   "outputs": [
    {
     "name": "stdout",
     "output_type": "stream",
     "text": [
      "['924,22\\xa0€', '924,22\\xa0€', '852,67\\xa0€', '1.326,41\\xa0€', '1.153,63\\xa0€', '1.590,64\\xa0€', '1.153,63\\xa0€', '1.417,87\\xa0€', '1.561,31\\xa0€', '1.049,13\\xa0€', '966,33\\xa0€', '489,85\\xa0€', '450,37\\xa0€', '446,05\\xa0€', '1.045,12\\xa0€', '837,67\\xa0€', '1.063,03\\xa0€', '429,00\\xa0€', '319,79\\xa0€', '98,75\\xa0€', '55,64\\xa0€', '51,85\\xa0€', '55,64\\xa0€', '51,85\\xa0€', '65,06\\xa0€', '33,47\\xa0€', '84,15\\xa0€', '71,40\\xa0€', '23,61\\xa0€', '23,56\\xa0€', '46,66\\xa0€', '74,65\\xa0€', '74,65\\xa0€', '42,52\\xa0€', '23,79\\xa0€', '121,50\\xa0€', '6,92\\xa0€', '139,50\\xa0€']\n"
     ]
    }
   ],
   "source": [
    "#Extract just the original price\n",
    "original_prices = [elem.text.strip() for elem in soup.find_all('span', {'class': 'price'})]\n",
    "\n",
    "print(original_prices)\n"
   ]
  },
  {
   "cell_type": "code",
   "execution_count": 11,
   "id": "5d60da81",
   "metadata": {},
   "outputs": [
    {
     "name": "stdout",
     "output_type": "stream",
     "text": [
      "['-294,78\\xa0€', '-294,78\\xa0€', '-366,33\\xa0€', '-421,44\\xa0€', '-365,37\\xa0€', '-507,21\\xa0€', '-365,37\\xa0€', '-451,13\\xa0€', '-407,69\\xa0€', '-209,88\\xa0€', '-192,67\\xa0€', '-99,15\\xa0€', '-138,63\\xa0€', '-75,74\\xa0€', '-223,88\\xa0€', '-211,33\\xa0€', '-335,97\\xa0€', '-209,21\\xa0€', '-0,25\\xa0€', '-3,36\\xa0€', '-3,14\\xa0€', '-3,36\\xa0€', '-3,14\\xa0€', '-3,93\\xa0€', '-11,53\\xa0€', '-14,85\\xa0€', '-3,60\\xa0€', '-1,39\\xa0€', '-1,44\\xa0€', '-2,35\\xa0€', '-4,35\\xa0€', '-4,35\\xa0€', '-2,48\\xa0€', '-1,21\\xa0€', '-13,50\\xa0€', '-2,38\\xa0€', '-15,50\\xa0€']\n"
     ]
    }
   ],
   "source": [
    "#Extract the discount\n",
    "discount_amount = soup.find_all('span','discount-amount discount-product')\n",
    "discount_amount = [elem.text.strip() for elem in soup.find_all('span', {'class': 'discount-amount discount-product'})]\n",
    "\n",
    "print(discount_amount)\n"
   ]
  },
  {
   "cell_type": "code",
   "execution_count": 19,
   "id": "2593a73c",
   "metadata": {},
   "outputs": [
    {
     "name": "stdout",
     "output_type": "stream",
     "text": [
      "[]\n"
     ]
    }
   ],
   "source": [
    "rating_Value = soup.find_all('meta itemprop','ratingValue')\n",
    "\n",
    "print(rating_Value)"
   ]
  },
  {
   "cell_type": "code",
   "execution_count": 12,
   "id": "5065cb01",
   "metadata": {
    "scrolled": true
   },
   "outputs": [
    {
     "name": "stdout",
     "output_type": "stream",
     "text": [
      "38\n",
      "37\n",
      "38\n",
      "37\n"
     ]
    }
   ],
   "source": [
    "#Check the lenght of each object\n",
    "print(len(product_names))\n",
    "print(len(sale_price))\n",
    "print(len(original_prices))\n",
    "print(len(discount_amount))"
   ]
  },
  {
   "cell_type": "code",
   "execution_count": 13,
   "id": "282475ac",
   "metadata": {},
   "outputs": [],
   "source": [
    "#Add \"None\" if there's a missing value\n",
    "if len(sale_price) < len(product_names):\n",
    "    diff = len(product_names) - len(sale_price)\n",
    "    for i in range(diff):\n",
    "        sale_price.append(None)\n",
    "\n",
    "if len(original_prices) < len(product_names):\n",
    "    diff = len(product_names) - len(original_prices)\n",
    "    for i in range(diff):\n",
    "        original_prices.append(None)\n",
    "        \n",
    "if len(discount_amount) < len(product_names):\n",
    "    diff = len(product_names) - len(discount_amount)\n",
    "    for i in range(diff):\n",
    "        discount_amount.append(None)"
   ]
  },
  {
   "cell_type": "code",
   "execution_count": 14,
   "id": "e4a8e29e",
   "metadata": {},
   "outputs": [],
   "source": [
    "data = {'Product': product_names, 'Original price': sale_price, 'Price with discount': original_prices, 'discount_amount':discount_amount}\n"
   ]
  },
  {
   "cell_type": "code",
   "execution_count": 15,
   "id": "ae149459",
   "metadata": {},
   "outputs": [],
   "source": [
    "#Create the DataFrame\n",
    "df = pd.DataFrame(data)"
   ]
  },
  {
   "cell_type": "code",
   "execution_count": 16,
   "id": "7d6ba6db",
   "metadata": {},
   "outputs": [
    {
     "data": {
      "text/html": [
       "<div>\n",
       "<style scoped>\n",
       "    .dataframe tbody tr th:only-of-type {\n",
       "        vertical-align: middle;\n",
       "    }\n",
       "\n",
       "    .dataframe tbody tr th {\n",
       "        vertical-align: top;\n",
       "    }\n",
       "\n",
       "    .dataframe thead th {\n",
       "        text-align: right;\n",
       "    }\n",
       "</style>\n",
       "<table border=\"1\" class=\"dataframe\">\n",
       "  <thead>\n",
       "    <tr style=\"text-align: right;\">\n",
       "      <th></th>\n",
       "      <th>Product</th>\n",
       "      <th>Original price</th>\n",
       "      <th>Price with discount</th>\n",
       "      <th>discount_amount</th>\n",
       "    </tr>\n",
       "  </thead>\n",
       "  <tbody>\n",
       "    <tr>\n",
       "      <th>0</th>\n",
       "      <td>MacBook Air 13 M1 256GB Oro</td>\n",
       "      <td>1.219,00 €</td>\n",
       "      <td>924,22 €</td>\n",
       "      <td>-294,78 €</td>\n",
       "    </tr>\n",
       "    <tr>\n",
       "      <th>1</th>\n",
       "      <td>MacBook Air 13 M1 256GB Plata</td>\n",
       "      <td>1.219,00 €</td>\n",
       "      <td>924,22 €</td>\n",
       "      <td>-294,78 €</td>\n",
       "    </tr>\n",
       "    <tr>\n",
       "      <th>2</th>\n",
       "      <td>MacBook Air 13 M1 256GB Gris</td>\n",
       "      <td>1.219,00 €</td>\n",
       "      <td>852,67 €</td>\n",
       "      <td>-366,33 €</td>\n",
       "    </tr>\n",
       "    <tr>\n",
       "      <th>3</th>\n",
       "      <td>MacBook Air 13 M2 256GB RAM...</td>\n",
       "      <td>1.747,85 €</td>\n",
       "      <td>1.326,41 €</td>\n",
       "      <td>-421,44 €</td>\n",
       "    </tr>\n",
       "    <tr>\n",
       "      <th>4</th>\n",
       "      <td>MacBook Air 13 M2 256GB Plata</td>\n",
       "      <td>1.519,00 €</td>\n",
       "      <td>1.153,63 €</td>\n",
       "      <td>-365,37 €</td>\n",
       "    </tr>\n",
       "  </tbody>\n",
       "</table>\n",
       "</div>"
      ],
      "text/plain": [
       "                          Product Original price Price with discount  \\\n",
       "0     MacBook Air 13 M1 256GB Oro     1.219,00 €            924,22 €   \n",
       "1   MacBook Air 13 M1 256GB Plata     1.219,00 €            924,22 €   \n",
       "2    MacBook Air 13 M1 256GB Gris     1.219,00 €            852,67 €   \n",
       "3  MacBook Air 13 M2 256GB RAM...     1.747,85 €          1.326,41 €   \n",
       "4   MacBook Air 13 M2 256GB Plata     1.519,00 €          1.153,63 €   \n",
       "\n",
       "  discount_amount  \n",
       "0       -294,78 €  \n",
       "1       -294,78 €  \n",
       "2       -366,33 €  \n",
       "3       -421,44 €  \n",
       "4       -365,37 €  "
      ]
     },
     "execution_count": 16,
     "metadata": {},
     "output_type": "execute_result"
    }
   ],
   "source": [
    "df.head()"
   ]
  },
  {
   "cell_type": "code",
   "execution_count": 17,
   "id": "b26fb64f",
   "metadata": {},
   "outputs": [],
   "source": [
    "# Save the DataFrame to a CSV file\n",
    "df.to_csv('productdata.csv', index=False)"
   ]
  }
 ],
 "metadata": {
  "kernelspec": {
   "display_name": "Python 3 (ipykernel)",
   "language": "python",
   "name": "python3"
  },
  "language_info": {
   "codemirror_mode": {
    "name": "ipython",
    "version": 3
   },
   "file_extension": ".py",
   "mimetype": "text/x-python",
   "name": "python",
   "nbconvert_exporter": "python",
   "pygments_lexer": "ipython3",
   "version": "3.9.12"
  }
 },
 "nbformat": 4,
 "nbformat_minor": 5
}
